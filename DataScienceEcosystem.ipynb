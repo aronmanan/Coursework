{
 "cells": [
  {
   "cell_type": "markdown",
   "id": "3e89502f-1102-41f0-8eb7-c3fe7ec8d33c",
   "metadata": {},
   "source": [
    "# Data science Tools and Ecosystem "
   ]
  },
  {
   "cell_type": "markdown",
   "id": "33daef48-dfe8-4b15-a95b-96c34860787f",
   "metadata": {},
   "source": [
    "In this notebook, Data Science Tools and Ecosystem are summarized."
   ]
  },
  {
   "cell_type": "markdown",
   "id": "fed5bf3a-c6a3-43cd-9bbc-7ddffd956fa1",
   "metadata": {},
   "source": [
    "**Objectives:**\n",
    "* Popular Langauges that Data Scientists use\n",
    "* Commonly used libraries\n",
    "* Data Science Tools\n",
    "* Evaluating arithmetic expressions in Python"
   ]
  },
  {
   "cell_type": "markdown",
   "id": "d86ed29c-1cf2-485c-944d-ba76043c6f54",
   "metadata": {},
   "source": [
    "Some of the popular languages that Data Scientists use are:\n",
    "1. Python\n",
    "2. R\n",
    "3. SQL"
   ]
  },
  {
   "cell_type": "markdown",
   "id": "8465a746-dd38-49ef-891f-bffbb4145515",
   "metadata": {},
   "source": [
    "Some of the commonly used libraries used by Data Scientists include:\n",
    "1. Numpy \n",
    "2. Pandas \n",
    "3. Scikit-learn \n",
    "4. Caret \n",
    "5. dplyr"
   ]
  },
  {
   "cell_type": "markdown",
   "id": "76058cee-8ff1-4a8b-9d54-7fdb146a3e91",
   "metadata": {},
   "source": [
    "| Data Science Tools |\n",
    "| --- |\n",
    "| Jupyter Notebook |\n",
    "| R Studio |\n",
    "| GitHub |\n",
    "| VS Code |\n",
    "| MySQL |\n"
   ]
  },
  {
   "cell_type": "markdown",
   "id": "52d0eae0-5eaf-47ee-842d-9b2b86136e1a",
   "metadata": {},
   "source": [
    "### Below are a few examples of evaluating arithmetic expressions in Python"
   ]
  },
  {
   "cell_type": "code",
   "execution_count": 2,
   "id": "525ca0d0-aa19-4dc9-a1d2-2b53cedae8b9",
   "metadata": {},
   "outputs": [
    {
     "data": {
      "text/plain": [
       "17"
      ]
     },
     "execution_count": 2,
     "metadata": {},
     "output_type": "execute_result"
    }
   ],
   "source": [
    "# This a simple arithmetic expression to mutiply then add integers\n",
    "(3*4)+5"
   ]
  },
  {
   "cell_type": "code",
   "execution_count": 3,
   "id": "aea20c41-9843-4498-93e3-a14f4d88656e",
   "metadata": {},
   "outputs": [
    {
     "data": {
      "text/plain": [
       "3.3333333333333335"
      ]
     },
     "execution_count": 3,
     "metadata": {},
     "output_type": "execute_result"
    }
   ],
   "source": [
    "# This will convert 200 minutes to hours by diving by 60\n",
    "minutes = 200\n",
    "hours = minutes / 60\n",
    "hours"
   ]
  },
  {
   "cell_type": "markdown",
   "id": "38eeecf6-6adb-402b-a149-22640691a1d4",
   "metadata": {},
   "source": [
    "## Author \n",
    "Manan Aron"
   ]
  },
  {
   "cell_type": "code",
   "execution_count": null,
   "id": "2ba90f2e-5491-428c-b443-f336ac23fea0",
   "metadata": {},
   "outputs": [],
   "source": []
  }
 ],
 "metadata": {
  "kernelspec": {
   "display_name": "Python 3 (ipykernel)",
   "language": "python",
   "name": "python3"
  },
  "language_info": {
   "codemirror_mode": {
    "name": "ipython",
    "version": 3
   },
   "file_extension": ".py",
   "mimetype": "text/x-python",
   "name": "python",
   "nbconvert_exporter": "python",
   "pygments_lexer": "ipython3",
   "version": "3.11.9"
  }
 },
 "nbformat": 4,
 "nbformat_minor": 5
}
